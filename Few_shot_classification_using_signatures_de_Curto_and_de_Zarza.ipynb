{
  "nbformat": 4,
  "nbformat_minor": 0,
  "metadata": {
    "colab": {
      "name": "Few_shot_classification_using_signatures_de_Curto_and_de_Zarza.ipynb",
      "provenance": [],
      "collapsed_sections": [],
      "machine_shape": "hm",
      "background_execution": "on"
    },
    "kernelspec": {
      "name": "python3",
      "display_name": "Python 3"
    },
    "language_info": {
      "name": "python"
    }
  },
  "cells": [
    {
      "cell_type": "markdown",
      "source": [
        "# Learning with Signatures\n",
        "https://arxiv.org/abs/2204.07953\n",
        "\n",
        "J. de Curtò y DíAz, I. de Zarzà i Cubero, Carlos T. Calafate and Hong Yan.\n",
        "\n",
        "{decurtoydiaz,dezarzaycubero}@innocimda.com\n",
        "\n",
        "---\n",
        "\n",
        "**Acknowledgements**\n",
        "\n",
        "This work is part of CIMDA (Centre for Intelligent Multidimensional Data Analysis), HK Science Park, HK.\n",
        "\n",
        "A joint Center between City University of Hong Kong and the University of Oxford.\n",
        "\n",
        "Our work has been supported by HK Innovation and Technology Commission (InnoHK Project CIMDA) and HK Research Grants Council (Project CityU 11204821).\n",
        "\n",
        "Authors are also affiliated with Universitat Politècnica de València and Universitat Oberta de Catalunya.\n",
        "\n",
        "---"
      ],
      "metadata": {
        "id": "MGnBO7YCuct3"
      }
    },
    {
      "cell_type": "markdown",
      "source": [
        "In this notebook we are going to illustrate an example of Few-shot Classification using Signatures on challenging datasets [AFHQ, CIFAR10, MNIST, Four Shapes] achieving 100% accuracy on all tasks, as described in Section 4. Computation is done at the CPU, with the use of very few labeled examples and without learned hyperparameters. Weights (that is, scale factors) are computed optimally by Definition 4. "
      ],
      "metadata": {
        "id": "xJP7si5PutxB"
      }
    },
    {
      "cell_type": "markdown",
      "source": [
        "First, load your drive and make sure you have a folder with all four datasets (you can add a shortcut to drive from the original data here: https://drive.google.com/drive/folders/1jjG5xc0Sj2WoyBM81issdc58zNxNHrNg?usp=sharing)"
      ],
      "metadata": {
        "id": "miYo41k3vU3o"
      }
    },
    {
      "cell_type": "code",
      "execution_count": 2,
      "metadata": {
        "id": "VPdKh_d-poZn",
        "colab": {
          "base_uri": "https://localhost:8080/"
        },
        "outputId": "6c9d7553-7eb3-4da3-9afa-478b36e3ebd3"
      },
      "outputs": [
        {
          "output_type": "stream",
          "name": "stdout",
          "text": [
            "Mounted at /content/drive\n"
          ]
        }
      ],
      "source": [
        "from google.colab import drive\n",
        "drive.mount('/content/drive')"
      ]
    },
    {
      "cell_type": "markdown",
      "source": [
        "Install the following dependency to be able to compute the Signatures."
      ],
      "metadata": {
        "id": "cgfYDPU5wEkw"
      }
    },
    {
      "cell_type": "code",
      "source": [
        "!pip install iisignature"
      ],
      "metadata": {
        "colab": {
          "base_uri": "https://localhost:8080/"
        },
        "id": "Sg-v5PTKpxin",
        "outputId": "191e6691-c4a9-43f5-93ea-cf008715a4af"
      },
      "execution_count": 3,
      "outputs": [
        {
          "output_type": "stream",
          "name": "stdout",
          "text": [
            "Collecting iisignature\n",
            "  Downloading iisignature-0.24.tar.gz (1.3 MB)\n",
            "\u001b[?25l\r\u001b[K     |▎                               | 10 kB 28.8 MB/s eta 0:00:01\r\u001b[K     |▌                               | 20 kB 32.5 MB/s eta 0:00:01\r\u001b[K     |▉                               | 30 kB 34.2 MB/s eta 0:00:01\r\u001b[K     |█                               | 40 kB 23.7 MB/s eta 0:00:01\r\u001b[K     |█▎                              | 51 kB 18.4 MB/s eta 0:00:01\r\u001b[K     |█▋                              | 61 kB 20.4 MB/s eta 0:00:01\r\u001b[K     |█▉                              | 71 kB 22.4 MB/s eta 0:00:01\r\u001b[K     |██                              | 81 kB 24.1 MB/s eta 0:00:01\r\u001b[K     |██▍                             | 92 kB 26.4 MB/s eta 0:00:01\r\u001b[K     |██▋                             | 102 kB 23.2 MB/s eta 0:00:01\r\u001b[K     |██▉                             | 112 kB 23.2 MB/s eta 0:00:01\r\u001b[K     |███▏                            | 122 kB 23.2 MB/s eta 0:00:01\r\u001b[K     |███▍                            | 133 kB 23.2 MB/s eta 0:00:01\r\u001b[K     |███▋                            | 143 kB 23.2 MB/s eta 0:00:01\r\u001b[K     |████                            | 153 kB 23.2 MB/s eta 0:00:01\r\u001b[K     |████▏                           | 163 kB 23.2 MB/s eta 0:00:01\r\u001b[K     |████▍                           | 174 kB 23.2 MB/s eta 0:00:01\r\u001b[K     |████▊                           | 184 kB 23.2 MB/s eta 0:00:01\r\u001b[K     |█████                           | 194 kB 23.2 MB/s eta 0:00:01\r\u001b[K     |█████▎                          | 204 kB 23.2 MB/s eta 0:00:01\r\u001b[K     |█████▌                          | 215 kB 23.2 MB/s eta 0:00:01\r\u001b[K     |█████▊                          | 225 kB 23.2 MB/s eta 0:00:01\r\u001b[K     |██████                          | 235 kB 23.2 MB/s eta 0:00:01\r\u001b[K     |██████▎                         | 245 kB 23.2 MB/s eta 0:00:01\r\u001b[K     |██████▌                         | 256 kB 23.2 MB/s eta 0:00:01\r\u001b[K     |██████▉                         | 266 kB 23.2 MB/s eta 0:00:01\r\u001b[K     |███████                         | 276 kB 23.2 MB/s eta 0:00:01\r\u001b[K     |███████▎                        | 286 kB 23.2 MB/s eta 0:00:01\r\u001b[K     |███████▋                        | 296 kB 23.2 MB/s eta 0:00:01\r\u001b[K     |███████▉                        | 307 kB 23.2 MB/s eta 0:00:01\r\u001b[K     |████████                        | 317 kB 23.2 MB/s eta 0:00:01\r\u001b[K     |████████▍                       | 327 kB 23.2 MB/s eta 0:00:01\r\u001b[K     |████████▋                       | 337 kB 23.2 MB/s eta 0:00:01\r\u001b[K     |████████▉                       | 348 kB 23.2 MB/s eta 0:00:01\r\u001b[K     |█████████▏                      | 358 kB 23.2 MB/s eta 0:00:01\r\u001b[K     |█████████▍                      | 368 kB 23.2 MB/s eta 0:00:01\r\u001b[K     |█████████▊                      | 378 kB 23.2 MB/s eta 0:00:01\r\u001b[K     |██████████                      | 389 kB 23.2 MB/s eta 0:00:01\r\u001b[K     |██████████▏                     | 399 kB 23.2 MB/s eta 0:00:01\r\u001b[K     |██████████▌                     | 409 kB 23.2 MB/s eta 0:00:01\r\u001b[K     |██████████▊                     | 419 kB 23.2 MB/s eta 0:00:01\r\u001b[K     |███████████                     | 430 kB 23.2 MB/s eta 0:00:01\r\u001b[K     |███████████▎                    | 440 kB 23.2 MB/s eta 0:00:01\r\u001b[K     |███████████▌                    | 450 kB 23.2 MB/s eta 0:00:01\r\u001b[K     |███████████▊                    | 460 kB 23.2 MB/s eta 0:00:01\r\u001b[K     |████████████                    | 471 kB 23.2 MB/s eta 0:00:01\r\u001b[K     |████████████▎                   | 481 kB 23.2 MB/s eta 0:00:01\r\u001b[K     |████████████▌                   | 491 kB 23.2 MB/s eta 0:00:01\r\u001b[K     |████████████▉                   | 501 kB 23.2 MB/s eta 0:00:01\r\u001b[K     |█████████████                   | 512 kB 23.2 MB/s eta 0:00:01\r\u001b[K     |█████████████▎                  | 522 kB 23.2 MB/s eta 0:00:01\r\u001b[K     |█████████████▋                  | 532 kB 23.2 MB/s eta 0:00:01\r\u001b[K     |█████████████▉                  | 542 kB 23.2 MB/s eta 0:00:01\r\u001b[K     |██████████████                  | 552 kB 23.2 MB/s eta 0:00:01\r\u001b[K     |██████████████▍                 | 563 kB 23.2 MB/s eta 0:00:01\r\u001b[K     |██████████████▋                 | 573 kB 23.2 MB/s eta 0:00:01\r\u001b[K     |███████████████                 | 583 kB 23.2 MB/s eta 0:00:01\r\u001b[K     |███████████████▏                | 593 kB 23.2 MB/s eta 0:00:01\r\u001b[K     |███████████████▍                | 604 kB 23.2 MB/s eta 0:00:01\r\u001b[K     |███████████████▊                | 614 kB 23.2 MB/s eta 0:00:01\r\u001b[K     |████████████████                | 624 kB 23.2 MB/s eta 0:00:01\r\u001b[K     |████████████████▏               | 634 kB 23.2 MB/s eta 0:00:01\r\u001b[K     |████████████████▌               | 645 kB 23.2 MB/s eta 0:00:01\r\u001b[K     |████████████████▊               | 655 kB 23.2 MB/s eta 0:00:01\r\u001b[K     |█████████████████               | 665 kB 23.2 MB/s eta 0:00:01\r\u001b[K     |█████████████████▎              | 675 kB 23.2 MB/s eta 0:00:01\r\u001b[K     |█████████████████▌              | 686 kB 23.2 MB/s eta 0:00:01\r\u001b[K     |█████████████████▊              | 696 kB 23.2 MB/s eta 0:00:01\r\u001b[K     |██████████████████              | 706 kB 23.2 MB/s eta 0:00:01\r\u001b[K     |██████████████████▎             | 716 kB 23.2 MB/s eta 0:00:01\r\u001b[K     |██████████████████▌             | 727 kB 23.2 MB/s eta 0:00:01\r\u001b[K     |██████████████████▉             | 737 kB 23.2 MB/s eta 0:00:01\r\u001b[K     |███████████████████             | 747 kB 23.2 MB/s eta 0:00:01\r\u001b[K     |███████████████████▍            | 757 kB 23.2 MB/s eta 0:00:01\r\u001b[K     |███████████████████▋            | 768 kB 23.2 MB/s eta 0:00:01\r\u001b[K     |███████████████████▉            | 778 kB 23.2 MB/s eta 0:00:01\r\u001b[K     |████████████████████▏           | 788 kB 23.2 MB/s eta 0:00:01\r\u001b[K     |████████████████████▍           | 798 kB 23.2 MB/s eta 0:00:01\r\u001b[K     |████████████████████▋           | 808 kB 23.2 MB/s eta 0:00:01\r\u001b[K     |█████████████████████           | 819 kB 23.2 MB/s eta 0:00:01\r\u001b[K     |█████████████████████▏          | 829 kB 23.2 MB/s eta 0:00:01\r\u001b[K     |█████████████████████▍          | 839 kB 23.2 MB/s eta 0:00:01\r\u001b[K     |█████████████████████▊          | 849 kB 23.2 MB/s eta 0:00:01\r\u001b[K     |██████████████████████          | 860 kB 23.2 MB/s eta 0:00:01\r\u001b[K     |██████████████████████▏         | 870 kB 23.2 MB/s eta 0:00:01\r\u001b[K     |██████████████████████▌         | 880 kB 23.2 MB/s eta 0:00:01\r\u001b[K     |██████████████████████▊         | 890 kB 23.2 MB/s eta 0:00:01\r\u001b[K     |███████████████████████         | 901 kB 23.2 MB/s eta 0:00:01\r\u001b[K     |███████████████████████▎        | 911 kB 23.2 MB/s eta 0:00:01\r\u001b[K     |███████████████████████▌        | 921 kB 23.2 MB/s eta 0:00:01\r\u001b[K     |███████████████████████▉        | 931 kB 23.2 MB/s eta 0:00:01\r\u001b[K     |████████████████████████        | 942 kB 23.2 MB/s eta 0:00:01\r\u001b[K     |████████████████████████▎       | 952 kB 23.2 MB/s eta 0:00:01\r\u001b[K     |████████████████████████▋       | 962 kB 23.2 MB/s eta 0:00:01\r\u001b[K     |████████████████████████▉       | 972 kB 23.2 MB/s eta 0:00:01\r\u001b[K     |█████████████████████████       | 983 kB 23.2 MB/s eta 0:00:01\r\u001b[K     |█████████████████████████▍      | 993 kB 23.2 MB/s eta 0:00:01\r\u001b[K     |█████████████████████████▋      | 1.0 MB 23.2 MB/s eta 0:00:01\r\u001b[K     |█████████████████████████▉      | 1.0 MB 23.2 MB/s eta 0:00:01\r\u001b[K     |██████████████████████████▏     | 1.0 MB 23.2 MB/s eta 0:00:01\r\u001b[K     |██████████████████████████▍     | 1.0 MB 23.2 MB/s eta 0:00:01\r\u001b[K     |██████████████████████████▋     | 1.0 MB 23.2 MB/s eta 0:00:01\r\u001b[K     |███████████████████████████     | 1.1 MB 23.2 MB/s eta 0:00:01\r\u001b[K     |███████████████████████████▏    | 1.1 MB 23.2 MB/s eta 0:00:01\r\u001b[K     |███████████████████████████▍    | 1.1 MB 23.2 MB/s eta 0:00:01\r\u001b[K     |███████████████████████████▊    | 1.1 MB 23.2 MB/s eta 0:00:01\r\u001b[K     |████████████████████████████    | 1.1 MB 23.2 MB/s eta 0:00:01\r\u001b[K     |████████████████████████████▏   | 1.1 MB 23.2 MB/s eta 0:00:01\r\u001b[K     |████████████████████████████▌   | 1.1 MB 23.2 MB/s eta 0:00:01\r\u001b[K     |████████████████████████████▊   | 1.1 MB 23.2 MB/s eta 0:00:01\r\u001b[K     |█████████████████████████████   | 1.1 MB 23.2 MB/s eta 0:00:01\r\u001b[K     |█████████████████████████████▎  | 1.1 MB 23.2 MB/s eta 0:00:01\r\u001b[K     |█████████████████████████████▌  | 1.2 MB 23.2 MB/s eta 0:00:01\r\u001b[K     |█████████████████████████████▉  | 1.2 MB 23.2 MB/s eta 0:00:01\r\u001b[K     |██████████████████████████████  | 1.2 MB 23.2 MB/s eta 0:00:01\r\u001b[K     |██████████████████████████████▎ | 1.2 MB 23.2 MB/s eta 0:00:01\r\u001b[K     |██████████████████████████████▋ | 1.2 MB 23.2 MB/s eta 0:00:01\r\u001b[K     |██████████████████████████████▉ | 1.2 MB 23.2 MB/s eta 0:00:01\r\u001b[K     |███████████████████████████████ | 1.2 MB 23.2 MB/s eta 0:00:01\r\u001b[K     |███████████████████████████████▍| 1.2 MB 23.2 MB/s eta 0:00:01\r\u001b[K     |███████████████████████████████▋| 1.2 MB 23.2 MB/s eta 0:00:01\r\u001b[K     |███████████████████████████████▉| 1.2 MB 23.2 MB/s eta 0:00:01\r\u001b[K     |████████████████████████████████| 1.3 MB 23.2 MB/s \n",
            "\u001b[?25hRequirement already satisfied: numpy>1.7 in /usr/local/lib/python3.7/dist-packages (from iisignature) (1.21.5)\n",
            "Building wheels for collected packages: iisignature\n",
            "  Building wheel for iisignature (setup.py) ... \u001b[?25l\u001b[?25hdone\n",
            "  Created wheel for iisignature: filename=iisignature-0.24-cp37-cp37m-linux_x86_64.whl size=2528255 sha256=c6dc344556dedb14880195e78e05f9da759af5f7ec23b4147c46306f7a9d0f55\n",
            "  Stored in directory: /root/.cache/pip/wheels/d6/99/a3/b2b3f95df7c69f664e92b4ec58b8da922cb95bc394700cbc0f\n",
            "Successfully built iisignature\n",
            "Installing collected packages: iisignature\n",
            "Successfully installed iisignature-0.24\n"
          ]
        }
      ]
    },
    {
      "cell_type": "markdown",
      "source": [
        "Select among the available datasets and change the path accordingly."
      ],
      "metadata": {
        "id": "g3JYRpvewOPg"
      }
    },
    {
      "cell_type": "code",
      "source": [
        "#Choose dataset.\n",
        "datasets = 'afhq' #@param ['afhq', 'cifar10', 'mnist', 'shapes']"
      ],
      "metadata": {
        "id": "nXCGIYQdAnNk"
      },
      "execution_count": 4,
      "outputs": []
    },
    {
      "cell_type": "code",
      "source": [
        "if datasets == 'afhq':\n",
        "  labels = ['cat', 'dog', 'wild']\n",
        "  path = '/content/drive/MyDrive/datasets_de_curto_and_de_zarza/afhq/train/'\n",
        "  n_signatures = 100 #Number of train samples to use to compute representatives.\n",
        "  N_truncated = 2 #Order of truncated signature.\n",
        "  d = 16 #Size (d,d,3)\n",
        "  begin_validate = 1500\n",
        "  end_validate = 2000\n",
        "elif datasets == 'cifar10':\n",
        "  labels = ['airplane', 'automobile', 'bird', 'cat', 'deer', 'dog', 'frog', 'horse', 'ship', 'truck']\n",
        "  path = '/content/drive/MyDrive/datasets_de_curto_and_de_zarza/cifar10/train/'\n",
        "  n_signatures = 10\n",
        "  N_truncated = 2\n",
        "  d = 32\n",
        "  begin_validate = 2000\n",
        "  end_validate = 2100\n",
        "elif datasets == 'mnist':\n",
        "  labels = ['0', '1', '2', '3', '4', '5', '6', '7', '8', '9']\n",
        "  path = '/content/drive/MyDrive/datasets_de_curto_and_de_zarza/mnist/training/'\n",
        "  n_signatures = 10\n",
        "  N_truncated = 3\n",
        "  d = 28\n",
        "  begin_validate = 2000\n",
        "  end_validate = 2100\n",
        "elif datasets == 'shapes':\n",
        "  labels = ['square','triangle','circle','star']\n",
        "  path = '/content/drive/MyDrive/datasets_de_curto_and_de_zarza/shapes/train/'\n",
        "  n_signatures = 10\n",
        "  N_truncated = 2\n",
        "  d = 16\n",
        "  begin_validate = 10\n",
        "  end_validate = 110"
      ],
      "metadata": {
        "id": "sx0o_NZYB639"
      },
      "execution_count": 5,
      "outputs": []
    },
    {
      "cell_type": "code",
      "source": [
        "#Path where train instances can be found.\n",
        "\n",
        "import numpy as np\n",
        "\n",
        "categories = len(labels)\n",
        "folder = np.empty(categories, dtype='object')\n",
        "\n",
        "for c in range(0,categories):\n",
        "  folder[c] = path + labels[c] + '/'"
      ],
      "metadata": {
        "id": "MjAxVl4gsIET"
      },
      "execution_count": 6,
      "outputs": []
    },
    {
      "cell_type": "markdown",
      "source": [
        "Then compute the representatives of each class according to the chosen parameters."
      ],
      "metadata": {
        "id": "nnIvw4rLxFaQ"
      }
    },
    {
      "cell_type": "code",
      "source": [
        "#Compute a class representative for each category using (0:n_signatures) from train.\n",
        "#e.g. In AFHQ we use 100 signatures per class, that is a total of 300 train samples.\n",
        "\n",
        "import pickle\n",
        "import cv2\n",
        "import os\n",
        "import iisignature\n",
        "\n",
        "supermeanA = np.empty(categories, dtype='object') \n",
        "for c in range(0, categories):\n",
        "  dataA= []\n",
        "  a = os.listdir(folder[c])\n",
        "  for filename in a[0:n_signatures]:\n",
        "      image = cv2.imread(os.path.join(folder[c],filename))\n",
        "      if image is not None:\n",
        "          image = cv2.resize(image, (d,d))\n",
        "          image = np.reshape(image,(image.shape[0],image.shape[1] * image.shape[2]))\n",
        "          image = iisignature.sig(image, N_truncated)\n",
        "          dataA.append([image, folder[c] + filename])\n",
        "\n",
        "  featuresA, imagesA  = zip(*dataA)\n",
        "  supermeanA[c] = np.mean(featuresA, axis=0)"
      ],
      "metadata": {
        "id": "lB_0tZV6p8Z4"
      },
      "execution_count": 7,
      "outputs": []
    },
    {
      "cell_type": "markdown",
      "source": [
        "We load validation instances and compute optimal $\\lambda_{*}$ according to Definition 4. \n",
        "\n",
        "Learning with Signatures has the computational advantage of an analytical solution for the weights (videlicet, no need to use backpropagation)."
      ],
      "metadata": {
        "id": "X0S4pfRMRNtD"
      }
    },
    {
      "cell_type": "code",
      "source": [
        "#Load validation instances from train (begin:end) and compute signatures to tune the weights.\n",
        "#e.g. In AFHQ we use 500 signatures per class, that is a total of 1500 validation samples.\n",
        "\n",
        "for c in range(0, categories):\n",
        "  dataAA= []\n",
        "  a = os.listdir(folder[c])\n",
        "  for filename in a[begin_validate:end_validate]:\n",
        "      image = cv2.imread(os.path.join(folder[c],filename))\n",
        "      if image is not None:\n",
        "          image = cv2.resize(image, (d,d))\n",
        "          image = np.reshape(image,(image.shape[0],image.shape[1] * image.shape[2]))\n",
        "          image = iisignature.sig(image, N_truncated)\n",
        "          dataAA.append([image, folder[c] + filename])\n",
        "\n",
        "  featuresAA, imagesAA  = zip(*dataAA)\n",
        "\n",
        "  #Trying to estimate the optimal \\lambda_{*}\n",
        "  #we solve the inverse problem lambda * supermeanA = featuresAA[z] z:0..500\n",
        "  c_0 = supermeanA[c]\n",
        "  c_0[c_0==0] = 1\n",
        "  l = (1. / c_0) * featuresAA\n",
        "  globals()['supermeanl_' + str(c)] = np.mean(l, axis=0)"
      ],
      "metadata": {
        "id": "qA6V_nN6BYxq"
      },
      "execution_count": 8,
      "outputs": []
    },
    {
      "cell_type": "markdown",
      "source": [
        "Choose appropriate path to test."
      ],
      "metadata": {
        "id": "yTgdYpzpRY2U"
      }
    },
    {
      "cell_type": "code",
      "source": [
        "if datasets == 'afhq':\n",
        "  path = '/content/drive/MyDrive/datasets_de_curto_and_de_zarza/afhq/val/'\n",
        "elif datasets == 'cifar10':\n",
        "  path = '/content/drive/MyDrive/datasets_de_curto_and_de_zarza/cifar10/test/'\n",
        "elif datasets == 'mnist':\n",
        "  path = '/content/drive/MyDrive/datasets_de_curto_and_de_zarza/mnist/testing/'\n",
        "elif datasets == 'shapes':\n",
        "  path = '/content/drive/MyDrive/datasets_de_curto_and_de_zarza/shapes/test/'"
      ],
      "metadata": {
        "id": "cok5U4AXF8qJ"
      },
      "execution_count": 9,
      "outputs": []
    },
    {
      "cell_type": "code",
      "source": [
        "#Path where test instances can be found.\n",
        "\n",
        "for c in range(0,categories):\n",
        "  folder[c] = path + labels[c] + '/'"
      ],
      "metadata": {
        "id": "f6w4S0GyE_zJ"
      },
      "execution_count": 10,
      "outputs": []
    },
    {
      "cell_type": "markdown",
      "source": [
        "Load into memory signatures of test instances."
      ],
      "metadata": {
        "id": "v7t1c1VWRdo0"
      }
    },
    {
      "cell_type": "code",
      "source": [
        "#Load test instances and compute signatures.\n",
        "#e.g. We use the full AFHQ validation set as test, that is a total of 1500 samples.\n",
        "\n",
        "for c in range(0, categories):\n",
        "  dataAA= []\n",
        "  a = os.listdir(folder[c])\n",
        "  for filename in a:\n",
        "      image = cv2.imread(os.path.join(folder[c],filename))\n",
        "      if image is not None:\n",
        "          image = cv2.resize(image, (d,d))\n",
        "          image = np.reshape(image,(image.shape[0],image.shape[1] * image.shape[2]))\n",
        "          image = iisignature.sig(image, N_truncated)\n",
        "          dataAA.append([image, folder[c] + filename])\n",
        "\n",
        "  globals()['featuresAA_' + str(c)], imagesAA  = zip(*dataAA)"
      ],
      "metadata": {
        "id": "HdSHq2PUFRui"
      },
      "execution_count": 11,
      "outputs": []
    },
    {
      "cell_type": "markdown",
      "source": [
        "Compute classification accuracy using RMSE Signature as score function."
      ],
      "metadata": {
        "id": "aKVhxUL_RjfF"
      }
    },
    {
      "cell_type": "code",
      "source": [
        "#Compute RMSE Signature and print accuracy.\n",
        "\n",
        "from sklearn.metrics import mean_squared_error\n",
        "\n",
        "count = np.zeros(categories, dtype='object')\n",
        "\n",
        "for c2 in range(0,categories):\n",
        "  for z in range(0,len(globals()['featuresAA_' + str(c2)])):\n",
        "    rmse_c = np.empty(categories, dtype='object')\n",
        "    for c in range(0,categories):\n",
        "      rmse_c[c] = mean_squared_error(globals()['supermeanl_' + str(c2)] * supermeanA[c], globals()['featuresAA_' + str(c2)][z], squared=False)\n",
        "    min_rmse = np.argmin(rmse_c)\n",
        "    if(min_rmse != c2): \n",
        "      count[c2] += 1\n",
        "\n",
        "  print('RMSE ' + labels[c2])\n",
        "  print('# of errors:', count[c2])\n",
        "  print('Accuracy:', 1 - count[c2] / len(globals()['featuresAA_' + str(c2)]))\n",
        "  print('\\n')"
      ],
      "metadata": {
        "colab": {
          "base_uri": "https://localhost:8080/"
        },
        "id": "QdhGx7N-F8sD",
        "outputId": "ef7fd40f-294a-4a5d-dbb8-87ecfae02e8b"
      },
      "execution_count": 12,
      "outputs": [
        {
          "output_type": "stream",
          "name": "stdout",
          "text": [
            "RMSE cat\n",
            "# of errors: 0\n",
            "Accuracy: 1.0\n",
            "\n",
            "\n",
            "RMSE dog\n",
            "# of errors: 0\n",
            "Accuracy: 1.0\n",
            "\n",
            "\n",
            "RMSE wild\n",
            "# of errors: 0\n",
            "Accuracy: 1.0\n",
            "\n",
            "\n"
          ]
        }
      ]
    },
    {
      "cell_type": "markdown",
      "source": [
        "Here we achieve 100% accuracy on AFHQ, CIFAR10, MNIST and Four Shapes; indeed all of them very challeging problems for other learning frameworks, using very few labeled data, orders of magnitude faster than DL methods, with no learned hyperparameters and doing all the computation on the CPU."
      ],
      "metadata": {
        "id": "3NLHT9KhLt8I"
      }
    }
  ]
}